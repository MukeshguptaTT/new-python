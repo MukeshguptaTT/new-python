{
 "cells": [
  {
   "cell_type": "code",
   "execution_count": 1,
   "id": "d75ba988",
   "metadata": {},
   "outputs": [],
   "source": [
    "import pandas as pd\n",
    "import numpy as np\n",
    "import matplotlib.pyplot as plt\n",
    "import seaborn as sns\n"
   ]
  },
  {
   "cell_type": "code",
   "execution_count": 2,
   "id": "28ff68a6",
   "metadata": {},
   "outputs": [],
   "source": [
    "data = pd.read_csv(r\"C:\\Users\\denge\\Desktop\\python\\house_prices.csv\")"
   ]
  },
  {
   "cell_type": "code",
   "execution_count": 3,
   "id": "a6ed60e2",
   "metadata": {},
   "outputs": [
    {
     "name": "stdout",
     "output_type": "stream",
     "text": [
      "<class 'pandas.core.frame.DataFrame'>\n",
      "RangeIndex: 99499 entries, 0 to 99498\n",
      "Data columns (total 9 columns):\n",
      " #   Column         Non-Null Count  Dtype  \n",
      "---  ------         --------------  -----  \n",
      " 0   Unnamed: 0     99499 non-null  int64  \n",
      " 1   property_type  99499 non-null  object \n",
      " 2   price          99499 non-null  int64  \n",
      " 3   location       99499 non-null  object \n",
      " 4   city           99499 non-null  object \n",
      " 5   baths          99499 non-null  int64  \n",
      " 6   purpose        99499 non-null  object \n",
      " 7   bedrooms       99499 non-null  int64  \n",
      " 8   Area_in_Marla  99499 non-null  float64\n",
      "dtypes: float64(1), int64(4), object(4)\n",
      "memory usage: 6.8+ MB\n"
     ]
    }
   ],
   "source": [
    "data.head(10)\n",
    "data.info()\n"
   ]
  },
  {
   "cell_type": "code",
   "execution_count": 5,
   "id": "85b29300",
   "metadata": {},
   "outputs": [
    {
     "name": "stdout",
     "output_type": "stream",
     "text": [
      "   Unnamed: 0     price     baths  bedrooms  Area_in_Marla\n",
      "0    0.000000  0.222449  0.166667  0.333333       0.020619\n",
      "1    0.000006  0.153383  0.333333  0.500000       0.028866\n",
      "2    0.000012  0.367265  0.833333  0.833333       0.041237\n",
      "3    0.000018  0.968809  0.500000  0.666667       0.206186\n",
      "4    0.000024  0.155611  0.333333  0.500000       0.041237\n"
     ]
    }
   ],
   "source": [
    "from sklearn.preprocessing import MinMaxScaler\n",
    "numeric_cols = data.select_dtypes(include=['int64', 'float64']).columns\n",
    "scaler = MinMaxScaler()\n",
    "data_normalized = data.copy()\n",
    "data_normalized[numeric_cols] = scaler.fit_transform(data[numeric_cols])\n",
    "print(data_normalized[numeric_cols].head())\n"
   ]
  },
  {
   "cell_type": "code",
   "execution_count": 7,
   "id": "acbb987f",
   "metadata": {},
   "outputs": [
    {
     "name": "stdout",
     "output_type": "stream",
     "text": [
      "   Unnamed: 0     price     baths  bedrooms  Area_in_Marla\n",
      "0   -0.925759  0.162866 -0.333333      -0.5      -0.519231\n",
      "1   -0.925747 -0.039088  0.000000       0.0      -0.211538\n",
      "2   -0.925735  0.586319  1.000000       1.0       0.250000\n",
      "3   -0.925723  2.345277  0.333333       0.5       6.403846\n",
      "4   -0.925710 -0.032573  0.000000       0.0       0.250000\n"
     ]
    }
   ],
   "source": [
    "from sklearn.preprocessing import RobustScaler\n",
    "numeric_cols = data.select_dtypes(include=['int64', 'float64']).columns\n",
    "scaler = RobustScaler()\n",
    "data_scaled = data.copy()\n",
    "data_scaled[numeric_cols] = scaler.fit_transform(data[numeric_cols])\n",
    "print(data_scaled[numeric_cols].head())\n"
   ]
  },
  {
   "cell_type": "code",
   "execution_count": 9,
   "id": "af550495",
   "metadata": {},
   "outputs": [
    {
     "name": "stdout",
     "output_type": "stream",
     "text": [
      "   Unnamed: 0     price     baths  bedrooms  Area_in_Marla\n",
      "0   -1.635266 -0.035265 -1.037916 -1.075507      -0.637182\n",
      "1   -1.635245 -0.326073 -0.359586 -0.279270      -0.422890\n",
      "2   -1.635225  0.574495  1.675402  1.313205      -0.101451\n",
      "3   -1.635204  3.107341  0.318743  0.516967       4.184397\n",
      "4   -1.635183 -0.316692 -0.359586 -0.279270      -0.101451\n"
     ]
    }
   ],
   "source": [
    "from sklearn.preprocessing import StandardScaler\n",
    "numeric_cols = data.select_dtypes(include=['int64', 'float64']).columns\n",
    "scaler = StandardScaler()\n",
    "data_standardized = data.copy()\n",
    "data_standardized[numeric_cols] = scaler.fit_transform(data[numeric_cols])\n",
    "print(data_standardized[numeric_cols].head())\n"
   ]
  },
  {
   "cell_type": "code",
   "execution_count": 13,
   "id": "ee6350eb",
   "metadata": {},
   "outputs": [],
   "source": [
    "import pandas as pd\n",
    "df = pd.read_csv(r'C:\\Users\\denge\\Desktop\\python\\house_prices.csv')"
   ]
  },
  {
   "cell_type": "code",
   "execution_count": 14,
   "id": "d0c57a3b",
   "metadata": {},
   "outputs": [
    {
     "name": "stdout",
     "output_type": "stream",
     "text": [
      "   Unnamed: 0     price     baths  bedrooms  Area_in_Marla\n",
      "0   -1.635266 -0.035265 -1.037916 -1.075507      -0.637182\n",
      "1   -1.635245 -0.326073 -0.359586 -0.279270      -0.422890\n",
      "2   -1.635225  0.574495  1.675402  1.313205      -0.101451\n",
      "3   -1.635204  3.107341  0.318743  0.516967       4.184397\n",
      "4   -1.635183 -0.316692 -0.359586 -0.279270      -0.101451\n"
     ]
    }
   ],
   "source": [
    "from sklearn.preprocessing import StandardScaler\n",
    "numeric_cols = df.select_dtypes(include=['int64', 'float64']).columns\n",
    "scaler = StandardScaler()\n",
    "df_standardized = df.copy()\n",
    "df_standardized[numeric_cols] = scaler.fit_transform(df[numeric_cols])\n",
    "print(df_standardized[numeric_cols].head())\n"
   ]
  },
  {
   "cell_type": "code",
   "execution_count": null,
   "id": "594559c5",
   "metadata": {},
   "outputs": [],
   "source": []
  }
 ],
 "metadata": {
  "kernelspec": {
   "display_name": "Python 3",
   "language": "python",
   "name": "python3"
  },
  "language_info": {
   "codemirror_mode": {
    "name": "ipython",
    "version": 3
   },
   "file_extension": ".py",
   "mimetype": "text/x-python",
   "name": "python",
   "nbconvert_exporter": "python",
   "pygments_lexer": "ipython3",
   "version": "3.10.11"
  }
 },
 "nbformat": 4,
 "nbformat_minor": 5
}
